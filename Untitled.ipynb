{
 "cells": [
  {
   "cell_type": "code",
   "execution_count": 57,
   "metadata": {},
   "outputs": [
    {
     "name": "stdout",
     "output_type": "stream",
     "text": [
      "2018-03-24T19:44:03Z\n",
      "Content=%7B%22foo%22%3A%22bar%22%7D&SignatureMethod=HmacSHA256&SignatureVersion=1&Timestamp=2018-03-24T19%3A44%3A03Z\n",
      "True\n"
     ]
    }
   ],
   "source": [
    "import six\n",
    "import hmac\n",
    "import hashlib\n",
    "import json\n",
    "import base64\n",
    "import time\n",
    "from urllib.parse import quote\n",
    "\n",
    "ISO8601 = '%Y-%m-%dT%H:%M:%SZ'\n",
    "\n",
    "try:\n",
    "    TIME\n",
    "except NameError:\n",
    "    TIME = time.strftime(ISO8601, time.gmtime())\n",
    "\n",
    "print(TIME)\n",
    "\n",
    "str_key = '387632cfa3d18cd19bdfe72b61ac395dfcdc87c9'\n",
    "\n",
    "sign = b'ewVF7iSYn2nALgS9AB5BIErDZFbofVa8+gffBQhj07o='\n",
    "\n",
    "data = {'foo': 'bar'}\n",
    "content = json.dumps(data, separators=(',', ':'))\n",
    "\n",
    "params = {\n",
    "    'SignatureVersion': '1',\n",
    "    'SignatureMethod': 'HmacSHA256',\n",
    "    'Timestamp': TIME,\n",
    "    'Content': content\n",
    "}\n",
    "pairs = []\n",
    "for key in sorted(params):\n",
    "    # So an idempotent signature is generated even if it's a retries.\n",
    "    if key == 'Signature':\n",
    "        continue\n",
    "    value = six.text_type(params[key])\n",
    "    pairs.append(quote(key.encode('utf-8'), safe='') + '=' +\n",
    "                 quote(value.encode('utf-8'), safe='-_~'))\n",
    "string_to_sign = '&'.join(pairs)\n",
    "\n",
    "byte_content = string_to_sign.encode('utf8')\n",
    "\n",
    "print(string_to_sign)\n",
    "\n",
    "byte_key = bytes.fromhex(str_key)\n",
    "\n",
    "lhmac = hmac.new(byte_key, digestmod=hashlib.sha256)\n",
    "lhmac.update(byte_content)\n",
    "b64 = base64.b64encode(lhmac.digest())\n",
    "\n",
    "is_valid = hmac.compare_digest(sign, b64)\n",
    "print(is_valid)"
   ]
  },
  {
   "cell_type": "code",
   "execution_count": 52,
   "metadata": {},
   "outputs": [
    {
     "data": {
      "text/plain": [
       "b'ewVF7iSYn2nALgS9AB5BIErDZFbofVa8+gffBQhj07o='"
      ]
     },
     "execution_count": 52,
     "metadata": {},
     "output_type": "execute_result"
    }
   ],
   "source": [
    "content = data\n",
    "secure_key_digest = hmac.new(\n",
    "    byte_key,\n",
    "    msg=byte_content,\n",
    "    digestmod=hashlib.sha256).digest()\n",
    "\n",
    "base64.b64encode(secure_key_digest)"
   ]
  },
  {
   "cell_type": "code",
   "execution_count": null,
   "metadata": {},
   "outputs": [],
   "source": []
  },
  {
   "cell_type": "code",
   "execution_count": null,
   "metadata": {},
   "outputs": [],
   "source": [
    "import hmac\n",
    "import hashlib\n",
    "import json\n",
    "import base64\n",
    "\n",
    "\n",
    "str_key = '387632cfa3d18cd19bdfe72b61ac395dfcdc87c9'\n",
    "secure_key = bytes(str_key, 'utf8')\n",
    "\n",
    "sign = bytes('O3npUnhGkqWAZSyuhFTq9mwuqwaSXCD0kS+hlx40RkE=', 'utf8')\n",
    "\n",
    "data = {'foo': 'bar'}\n",
    "content = json.dumps(data, separators=(',', ':'))\n",
    "byte_content = bytes(content, 'utf8')\n",
    "byte_key = bytes.fromhex(secure_key.decode())\n",
    "signature = base64.b64encode(hmac.new(byte_key, msg=byte_content,\n",
    "                                      digestmod=hashlib.sha256).digest())\n",
    "\n",
    "is_valid = hmac.compare_digest(signature, sign)\n",
    "print(is_valid)"
   ]
  }
 ],
 "metadata": {
  "kernelspec": {
   "display_name": "Python 3",
   "language": "python",
   "name": "python3"
  },
  "language_info": {
   "codemirror_mode": {
    "name": "ipython",
    "version": 3
   },
   "file_extension": ".py",
   "mimetype": "text/x-python",
   "name": "python",
   "nbconvert_exporter": "python",
   "pygments_lexer": "ipython3",
   "version": "3.6.2"
  }
 },
 "nbformat": 4,
 "nbformat_minor": 2
}
